{
 "cells": [
  {
   "cell_type": "markdown",
   "source": [
    "##### Source API for stock data: https://finnhub.io/"
   ],
   "metadata": {
    "collapsed": false,
    "pycharm": {
     "name": "#%% md\n"
    }
   }
  },
  {
   "cell_type": "code",
   "execution_count": 75,
   "metadata": {
    "collapsed": true,
    "pycharm": {
     "name": "#%% code\n",
     "is_executing": false
    }
   },
   "outputs": [],
   "source": [
    "import requests"
   ]
  },
  {
   "cell_type": "markdown",
   "source": [
    "#### Simple wrapper class for API Calls:"
   ],
   "metadata": {
    "collapsed": false,
    "pycharm": {
     "name": "#%% md\n"
    }
   }
  },
  {
   "cell_type": "code",
   "execution_count": 76,
   "outputs": [],
   "source": [
    "class Finnhub_wrapper:\n",
    "    \n",
    "    def __init__(self):\n",
    "        self.__base_url = 'https://finnhub.io/api/v1'\n",
    "        self.candle_data_args = {\n",
    "            'stock': {\n",
    "                'required':  ['symbol', 'resolution'],\n",
    "                'optional': ['from', 'to', 'format', 'adjusted'],\n",
    "                'resolution': [1, 5, 15, 30, 60, 'D', 'W', 'M']\n",
    "            },\n",
    "            'crypto': {\n",
    "                'required':  ['symbol', 'exchange', 'resolution'],\n",
    "                'optional': ['from', 'to', 'format'],\n",
    "                'exchange': ['KRAKEN', 'HITBTC', 'COINBASE', 'GEMINI', 'POLONIEX', 'BINANCE', 'ZB', 'BITTREX', 'KUCOIN', 'OKEX', 'BITFINEX', 'HUOBI'],\n",
    "                'resolution': [1, 5, 15, 30, 60, 'D', 'W', 'M']\n",
    "           }\n",
    "        }\n",
    "        \n",
    "    # parameters: asset type (eg. 'stock', 'crypto') and arguments in dict form (eg. {'symbol':'BTCUSTDT', 'resolution': 'D', 'exchange':'BINANCE', 'from': 1572651390, 'to': 1575243390})\n",
    "    def get_candle_data(self, asset, args):\n",
    "        assert args is not None\n",
    "        self.__check_args(asset, args)\n",
    "        return requests.get(self.__construct_url(asset, args))\n",
    "    \n",
    "    def __check_args(self, asset, args):\n",
    "        print(asset)\n",
    "        if asset not in self.candle_data_args.keys():\n",
    "            raise Exception('Provided type \\'{}\\' is not supported'.format(asset))\n",
    "        for argument in self.candle_data_args[asset]['required']:\n",
    "            if argument not in args.keys():\n",
    "                raise Exception('Required argument is not provided. Argument {} needs to be provided'.format(argument))\n",
    "        for argument in args.keys():\n",
    "            if  (argument not in self.candle_data_args[asset]['required']) and (argument not in self.candle_data_args[asset]['optional']):\n",
    "                raise Exception('Provided argument \\'{}\\' is not supported'.format(argument))\n",
    "        if args['resolution'] not in self.candle_data_args[asset]['resolution']:\n",
    "            raise Exception('Provided resolution \\'{}\\' is not supported. Supported resolutions: {}'.format(args['resolution'], self.candle_data_args[asset]['resolution']))\n",
    "        if asset == 'crypto':\n",
    "            if args['exchange'] not in self.candle_data_args[asset]['exchange']:\n",
    "                raise Exception('Provided exchange \\'{}\\' is not supported'.format(args['exchange']))\n",
    "            \n",
    "    def __construct_url(self, asset, args):\n",
    "        url = self.__base_url\n",
    "        url += '/' + asset + '/' + 'candle?'\n",
    "        url += 'symbol='\n",
    "        if asset == 'crypto':\n",
    "            url += args['exchange'] + ':'\n",
    "        url += args['symbol'] + '&'\n",
    "        url += 'resolution='\n",
    "        if isinstance(args['resolution'], int):\n",
    "            url += str(args['resolution'])\n",
    "        else:\n",
    "            url += args['resolution']\n",
    "        for argument in self.candle_data_args[asset]['optional']:\n",
    "            if ((argument+'=') not in url) and (argument in args.keys()):\n",
    "                url += '&' + argument + '=' \n",
    "                if isinstance(args[argument], int):\n",
    "                    url += str(args[argument])\n",
    "                else:\n",
    "                    url += args[argument]\n",
    "        print(url)\n",
    "        return url"
   ],
   "metadata": {
    "collapsed": false,
    "pycharm": {
     "name": "#%% code\n",
     "is_executing": false
    }
   }
  },
  {
   "cell_type": "code",
   "execution_count": 77,
   "outputs": [
    {
     "name": "stdout",
     "text": [
      "stock\n",
      "https://finnhub.io/api/v1/stock/candle?symbol=AAPL&resolution=1&from=1572651390&to=1572910590\n",
      "<Response [200]>\n"
     ],
     "output_type": "stream"
    }
   ],
   "source": [
    "# example queries\n",
    "service = Finnhub_wrapper()\n",
    "#print(service.get_candle_data('crypto', {'symbol':'BTCUSDT', 'resolution': 'D', 'exchange':'BINANCE', 'from': 1572651390, 'to': 1575243390}))\n",
    "print(service.get_candle_data('stock', {'symbol':'AAPL', 'resolution': 1, 'from': 1572651390, 'to': 1572910590}).json())"
   ],
   "metadata": {
    "collapsed": false,
    "pycharm": {
     "name": "#%% code\n",
     "is_executing": false
    }
   }
  },
  {
   "cell_type": "code",
   "execution_count": null,
   "outputs": [],
   "source": [],
   "metadata": {
    "collapsed": false,
    "pycharm": {
     "name": "#%%\n"
    }
   }
  }
 ],
 "metadata": {
  "kernelspec": {
   "display_name": "Python 3",
   "language": "python",
   "name": "python3"
  },
  "language_info": {
   "codemirror_mode": {
    "name": "ipython",
    "version": 2
   },
   "file_extension": ".py",
   "mimetype": "text/x-python",
   "name": "python",
   "nbconvert_exporter": "python",
   "pygments_lexer": "ipython2",
   "version": "2.7.6"
  },
  "pycharm": {
   "stem_cell": {
    "cell_type": "raw",
    "source": [],
    "metadata": {
     "collapsed": false
    }
   }
  }
 },
 "nbformat": 4,
 "nbformat_minor": 0
}